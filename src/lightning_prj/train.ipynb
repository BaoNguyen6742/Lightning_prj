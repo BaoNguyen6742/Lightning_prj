{
 "cells": [
  {
   "cell_type": "code",
   "execution_count": 1,
   "id": "596d456e",
   "metadata": {},
   "outputs": [
    {
     "data": {
      "text/plain": [
       "['C:\\\\Users\\\\ngako\\\\AppData\\\\Roaming\\\\uv\\\\python\\\\cpython-3.13.3-windows-x86_64-none\\\\python313.zip',\n",
       " 'C:\\\\Users\\\\ngako\\\\AppData\\\\Roaming\\\\uv\\\\python\\\\cpython-3.13.3-windows-x86_64-none\\\\DLLs',\n",
       " 'C:\\\\Users\\\\ngako\\\\AppData\\\\Roaming\\\\uv\\\\python\\\\cpython-3.13.3-windows-x86_64-none\\\\Lib',\n",
       " 'C:\\\\Users\\\\ngako\\\\AppData\\\\Roaming\\\\uv\\\\python\\\\cpython-3.13.3-windows-x86_64-none',\n",
       " 'd:\\\\pythonProject\\\\Lightning_prj\\\\.venv',\n",
       " '',\n",
       " 'd:\\\\pythonProject\\\\Lightning_prj\\\\.venv\\\\Lib\\\\site-packages',\n",
       " 'd:\\\\pythonProject\\\\Lightning_prj\\\\.venv\\\\Lib\\\\site-packages\\\\win32',\n",
       " 'd:\\\\pythonProject\\\\Lightning_prj\\\\.venv\\\\Lib\\\\site-packages\\\\win32\\\\lib',\n",
       " 'd:\\\\pythonProject\\\\Lightning_prj\\\\.venv\\\\Lib\\\\site-packages\\\\Pythonwin',\n",
       " 'D:\\\\pythonProject\\\\Lightning_prj\\\\src\\\\lightning_prj']"
      ]
     },
     "execution_count": 1,
     "metadata": {},
     "output_type": "execute_result"
    }
   ],
   "source": [
    "import sys\n",
    "\n",
    "sys.path.append(\"D:\\\\pythonProject\\\\Lightning_prj\\\\src\\\\lightning_prj\")\n",
    "sys.path"
   ]
  },
  {
   "cell_type": "code",
   "execution_count": 2,
   "id": "d53fb0ae",
   "metadata": {},
   "outputs": [
    {
     "ename": "ImportError",
     "evalue": "attempted relative import beyond top-level package",
     "output_type": "error",
     "traceback": [
      "\u001b[31m---------------------------------------------------------------------------\u001b[39m",
      "\u001b[31mImportError\u001b[39m                               Traceback (most recent call last)",
      "\u001b[36mCell\u001b[39m\u001b[36m \u001b[39m\u001b[32mIn[2]\u001b[39m\u001b[32m, line 1\u001b[39m\n\u001b[32m----> \u001b[39m\u001b[32m1\u001b[39m \u001b[38;5;28;01mfrom\u001b[39;00m\u001b[38;5;250m \u001b[39m\u001b[34;01mModel\u001b[39;00m\u001b[34;01m.\u001b[39;00m\u001b[34;01mmodel\u001b[39;00m\u001b[38;5;250m \u001b[39m\u001b[38;5;28;01mimport\u001b[39;00m Model\n\u001b[32m      2\u001b[39m \u001b[38;5;28;01mfrom\u001b[39;00m\u001b[38;5;250m \u001b[39m\u001b[34;01mData\u001b[39;00m\u001b[34;01m.\u001b[39;00m\u001b[34;01mDataset\u001b[39;00m\u001b[34;01m.\u001b[39;00m\u001b[34;01mdataset\u001b[39;00m\u001b[38;5;250m \u001b[39m\u001b[38;5;28;01mimport\u001b[39;00m FoodDataModule\n\u001b[32m      4\u001b[39m \u001b[38;5;28;01mimport\u001b[39;00m\u001b[38;5;250m \u001b[39m\u001b[34;01mlightning\u001b[39;00m\u001b[38;5;250m \u001b[39m\u001b[38;5;28;01mas\u001b[39;00m\u001b[38;5;250m \u001b[39m\u001b[34;01mptl\u001b[39;00m\n",
      "\u001b[36mFile \u001b[39m\u001b[32md:\\pythonProject\\Lightning_prj\\src\\lightning_prj\\Model\\model.py:6\u001b[39m\n\u001b[32m      3\u001b[39m \u001b[38;5;28;01mimport\u001b[39;00m\u001b[38;5;250m \u001b[39m\u001b[34;01mtorch\u001b[39;00m\u001b[34;01m.\u001b[39;00m\u001b[34;01mnn\u001b[39;00m\u001b[38;5;250m \u001b[39m\u001b[38;5;28;01mas\u001b[39;00m\u001b[38;5;250m \u001b[39m\u001b[34;01mnn\u001b[39;00m\n\u001b[32m      4\u001b[39m \u001b[38;5;28;01mfrom\u001b[39;00m\u001b[38;5;250m \u001b[39m\u001b[34;01mtorch\u001b[39;00m\u001b[34;01m.\u001b[39;00m\u001b[34;01moptim\u001b[39;00m\u001b[38;5;250m \u001b[39m\u001b[38;5;28;01mimport\u001b[39;00m AdamW\n\u001b[32m----> \u001b[39m\u001b[32m6\u001b[39m \u001b[38;5;28;01mfrom\u001b[39;00m\u001b[38;5;250m \u001b[39m\u001b[34;01m.\u001b[39;00m\u001b[34;01m.\u001b[39;00m\u001b[34;01mConfig\u001b[39;00m\u001b[34;01m.\u001b[39;00m\u001b[34;01mconfig\u001b[39;00m\u001b[38;5;250m \u001b[39m\u001b[38;5;28;01mimport\u001b[39;00m HYPER_PARAMS\n\u001b[32m      9\u001b[39m \u001b[38;5;28;01mclass\u001b[39;00m\u001b[38;5;250m \u001b[39m\u001b[34;01mModel\u001b[39;00m(ptl.LightningModule):\n\u001b[32m     10\u001b[39m     \u001b[38;5;28;01mdef\u001b[39;00m\u001b[38;5;250m \u001b[39m\u001b[34m__init__\u001b[39m(\u001b[38;5;28mself\u001b[39m):\n",
      "\u001b[31mImportError\u001b[39m: attempted relative import beyond top-level package"
     ]
    }
   ],
   "source": [
    "from Model.model import Model\n",
    "from Data.Dataset.dataset import FoodDataModule\n",
    "\n",
    "import lightning as ptl\n"
   ]
  },
  {
   "cell_type": "code",
   "execution_count": null,
   "id": "29cdd2ef",
   "metadata": {},
   "outputs": [],
   "source": [
    "food_data_module = FoodDataModule()\n",
    "model = Model()\n",
    "\n",
    "trainer = ptl.Trainer(\n",
    "    fast_dev_run=True,\n",
    "    max_epochs=10,\n",
    "    accelerator=\"auto\",\n",
    ")\n"
   ]
  }
 ],
 "metadata": {
  "kernelspec": {
   "display_name": ".venv",
   "language": "python",
   "name": "python3"
  },
  "language_info": {
   "codemirror_mode": {
    "name": "ipython",
    "version": 3
   },
   "file_extension": ".py",
   "mimetype": "text/x-python",
   "name": "python",
   "nbconvert_exporter": "python",
   "pygments_lexer": "ipython3",
   "version": "3.13.3"
  }
 },
 "nbformat": 4,
 "nbformat_minor": 5
}
